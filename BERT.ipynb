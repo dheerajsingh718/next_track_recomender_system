{
 "cells": [
  {
   "cell_type": "markdown",
   "id": "a9764cce",
   "metadata": {},
   "source": [
    "# Implementing BERT using Cosine Similarity"
   ]
  },
  {
   "cell_type": "markdown",
   "id": "72208bf9",
   "metadata": {},
   "source": [
    "BERT (Bidirectional Encoder Representations from Transformers) is a powerful language model developed by researchers at Google.\n",
    "BERT-base-uncased is one of the pre-trained BERT models, which means it has been pre-trained on a large amount of text data and can be fine-tuned for various natural language processing tasks.\n",
    "\n",
    "### Advantages:\n",
    "\n",
    "- **Powerful Pre-training:** BERT-base-uncased has been pre-trained on a large corpus of text data, which allows it to capture a deep understanding of language and context. This pre-training helps the model perform well on a wide range of NLP tasks.<br/>\n",
    "\n",
    "- **Bidirectionality:** BERT uses a bidirectional training approach, which means it learns to understand text by considering the context from both the left and right sides of a word. This is in contrast to traditional language models, which only consider the left-to-right or right-to-left context.<br/>\n",
    "\n",
    "- **Flexible Fine-tuning:** The BERT-base-uncased model can be easily fine-tuned for various tasks by adding a task-specific output layer. This makes it a versatile and adaptable tool for different NLP applications.<br/>\n",
    "\n",
    "- **Computational Efficiency:** The BERT-base-uncased model is relatively smaller and more efficient compared to the larger BERT-large model, making it more practical for deployment in real-world applications."
   ]
  },
  {
   "cell_type": "code",
   "execution_count": 1,
   "id": "a726084b-2bbe-43e7-82a8-b4dffe08a679",
   "metadata": {},
   "outputs": [],
   "source": [
    "import pandas as pd\n",
    "import numpy as np\n",
    "import matplotlib.pyplot as plt\n",
    "import seaborn as sns\n",
    "import warnings\n",
    "warnings.filterwarnings('ignore')"
   ]
  },
  {
   "cell_type": "code",
   "execution_count": 10,
   "id": "c64d7210-dc64-4719-9d57-f48a02848ec3",
   "metadata": {},
   "outputs": [],
   "source": [
    "path = 'spotify_final_dataset.csv' # Adding path to the final preprocessed dataset "
   ]
  },
  {
   "cell_type": "code",
   "execution_count": null,
   "id": "2fc27c78-5d0d-4d52-b516-c01a58e39626",
   "metadata": {},
   "outputs": [],
   "source": [
    "df = pd.read_csv(path)"
   ]
  },
  {
   "cell_type": "code",
   "execution_count": 4,
   "id": "720481be-1275-4d18-82f2-99a0ca9f9555",
   "metadata": {},
   "outputs": [
    {
     "data": {
      "text/plain": [
       "(100000, 15)"
      ]
     },
     "execution_count": 4,
     "metadata": {},
     "output_type": "execute_result"
    }
   ],
   "source": [
    "df.shape"
   ]
  },
  {
   "cell_type": "code",
   "execution_count": 5,
   "id": "6239f488-9754-4ef4-9a4b-5a7bd9709500",
   "metadata": {},
   "outputs": [
    {
     "data": {
      "text/plain": [
       "track_pos                    0\n",
       "track_artist_name            0\n",
       "track_track_name             0\n",
       "track_duration_ms            0\n",
       "track_album_name             0\n",
       "playlist_name                0\n",
       "playlist_num_artists         0\n",
       "playlist_num_albums          0\n",
       "playlist_num_tracks          0\n",
       "playlist_num_followers       0\n",
       "playlist_num_edits           0\n",
       "playlist_duration_ms         0\n",
       "playlist_collaborative       0\n",
       "bag_of_words              7757\n",
       "sentiment_bag_of_words       0\n",
       "dtype: int64"
      ]
     },
     "execution_count": 5,
     "metadata": {},
     "output_type": "execute_result"
    }
   ],
   "source": [
    "df.isnull().sum()"
   ]
  },
  {
   "cell_type": "code",
   "execution_count": 6,
   "id": "2d814f06-1ee1-4e4b-8ce3-353db27beeca",
   "metadata": {},
   "outputs": [],
   "source": [
    "df.dropna(inplace=True)"
   ]
  },
  {
   "cell_type": "code",
   "execution_count": 7,
   "id": "e96de830-bbf2-48aa-b4ee-5ef77c323504",
   "metadata": {},
   "outputs": [
    {
     "data": {
      "text/html": [
       "<div>\n",
       "<style scoped>\n",
       "    .dataframe tbody tr th:only-of-type {\n",
       "        vertical-align: middle;\n",
       "    }\n",
       "\n",
       "    .dataframe tbody tr th {\n",
       "        vertical-align: top;\n",
       "    }\n",
       "\n",
       "    .dataframe thead th {\n",
       "        text-align: right;\n",
       "    }\n",
       "</style>\n",
       "<table border=\"1\" class=\"dataframe\">\n",
       "  <thead>\n",
       "    <tr style=\"text-align: right;\">\n",
       "      <th></th>\n",
       "      <th>track_pos</th>\n",
       "      <th>track_artist_name</th>\n",
       "      <th>track_track_name</th>\n",
       "      <th>track_duration_ms</th>\n",
       "      <th>track_album_name</th>\n",
       "      <th>playlist_name</th>\n",
       "      <th>playlist_num_artists</th>\n",
       "      <th>playlist_num_albums</th>\n",
       "      <th>playlist_num_tracks</th>\n",
       "      <th>playlist_num_followers</th>\n",
       "      <th>playlist_num_edits</th>\n",
       "      <th>playlist_duration_ms</th>\n",
       "      <th>playlist_collaborative</th>\n",
       "      <th>bag_of_words</th>\n",
       "      <th>sentiment_bag_of_words</th>\n",
       "    </tr>\n",
       "  </thead>\n",
       "  <tbody>\n",
       "    <tr>\n",
       "      <th>0</th>\n",
       "      <td>0</td>\n",
       "      <td>The Jackson 5</td>\n",
       "      <td>ABC</td>\n",
       "      <td>174866</td>\n",
       "      <td>ABC</td>\n",
       "      <td>party party</td>\n",
       "      <td>116</td>\n",
       "      <td>142</td>\n",
       "      <td>152</td>\n",
       "      <td>1</td>\n",
       "      <td>3</td>\n",
       "      <td>39413578</td>\n",
       "      <td>False</td>\n",
       "      <td>jackson c easy love b baby michael sing come s...</td>\n",
       "      <td>0.7964</td>\n",
       "    </tr>\n",
       "    <tr>\n",
       "      <th>1</th>\n",
       "      <td>1</td>\n",
       "      <td>Streetlight Manifesto</td>\n",
       "      <td>Point/Counterpoint</td>\n",
       "      <td>327920</td>\n",
       "      <td>Everything Goes Numb</td>\n",
       "      <td>party party</td>\n",
       "      <td>116</td>\n",
       "      <td>142</td>\n",
       "      <td>152</td>\n",
       "      <td>1</td>\n",
       "      <td>3</td>\n",
       "      <td>39413578</td>\n",
       "      <td>False</td>\n",
       "      <td>know dont never would ill ive like wont cant im</td>\n",
       "      <td>0.1316</td>\n",
       "    </tr>\n",
       "    <tr>\n",
       "      <th>2</th>\n",
       "      <td>2</td>\n",
       "      <td>Michael Jackson</td>\n",
       "      <td>Billie Jean</td>\n",
       "      <td>293826</td>\n",
       "      <td>Thriller 25 Super Deluxe Edition</td>\n",
       "      <td>party party</td>\n",
       "      <td>116</td>\n",
       "      <td>142</td>\n",
       "      <td>152</td>\n",
       "      <td>1</td>\n",
       "      <td>3</td>\n",
       "      <td>39413578</td>\n",
       "      <td>False</td>\n",
       "      <td>jean one billie lover uh son baby kid hoo girl</td>\n",
       "      <td>0.5859</td>\n",
       "    </tr>\n",
       "    <tr>\n",
       "      <th>3</th>\n",
       "      <td>3</td>\n",
       "      <td>Green Day</td>\n",
       "      <td>Basket Case</td>\n",
       "      <td>181533</td>\n",
       "      <td>Dookie</td>\n",
       "      <td>party party</td>\n",
       "      <td>116</td>\n",
       "      <td>142</td>\n",
       "      <td>152</td>\n",
       "      <td>1</td>\n",
       "      <td>3</td>\n",
       "      <td>39413578</td>\n",
       "      <td>False</td>\n",
       "      <td>sometimes chorus give creeps mind plays tricks...</td>\n",
       "      <td>0.1280</td>\n",
       "    </tr>\n",
       "    <tr>\n",
       "      <th>4</th>\n",
       "      <td>4</td>\n",
       "      <td>The White Stripes</td>\n",
       "      <td>Seven Nation Army</td>\n",
       "      <td>231800</td>\n",
       "      <td>Elephant</td>\n",
       "      <td>party party</td>\n",
       "      <td>116</td>\n",
       "      <td>142</td>\n",
       "      <td>152</td>\n",
       "      <td>1</td>\n",
       "      <td>3</td>\n",
       "      <td>39413578</td>\n",
       "      <td>False</td>\n",
       "      <td>im na gon back comin prechorus instrumental bl...</td>\n",
       "      <td>0.0000</td>\n",
       "    </tr>\n",
       "  </tbody>\n",
       "</table>\n",
       "</div>"
      ],
      "text/plain": [
       "   track_pos      track_artist_name    track_track_name  track_duration_ms  \\\n",
       "0          0          The Jackson 5                 ABC             174866   \n",
       "1          1  Streetlight Manifesto  Point/Counterpoint             327920   \n",
       "2          2        Michael Jackson         Billie Jean             293826   \n",
       "3          3              Green Day         Basket Case             181533   \n",
       "4          4      The White Stripes   Seven Nation Army             231800   \n",
       "\n",
       "                   track_album_name playlist_name  playlist_num_artists  \\\n",
       "0                               ABC   party party                   116   \n",
       "1              Everything Goes Numb   party party                   116   \n",
       "2  Thriller 25 Super Deluxe Edition   party party                   116   \n",
       "3                            Dookie   party party                   116   \n",
       "4                          Elephant   party party                   116   \n",
       "\n",
       "   playlist_num_albums  playlist_num_tracks  playlist_num_followers  \\\n",
       "0                  142                  152                       1   \n",
       "1                  142                  152                       1   \n",
       "2                  142                  152                       1   \n",
       "3                  142                  152                       1   \n",
       "4                  142                  152                       1   \n",
       "\n",
       "   playlist_num_edits  playlist_duration_ms  playlist_collaborative  \\\n",
       "0                   3              39413578                   False   \n",
       "1                   3              39413578                   False   \n",
       "2                   3              39413578                   False   \n",
       "3                   3              39413578                   False   \n",
       "4                   3              39413578                   False   \n",
       "\n",
       "                                        bag_of_words  sentiment_bag_of_words  \n",
       "0  jackson c easy love b baby michael sing come s...                  0.7964  \n",
       "1    know dont never would ill ive like wont cant im                  0.1316  \n",
       "2     jean one billie lover uh son baby kid hoo girl                  0.5859  \n",
       "3  sometimes chorus give creeps mind plays tricks...                  0.1280  \n",
       "4  im na gon back comin prechorus instrumental bl...                  0.0000  "
      ]
     },
     "execution_count": 7,
     "metadata": {},
     "output_type": "execute_result"
    }
   ],
   "source": [
    "df.head()"
   ]
  },
  {
   "cell_type": "code",
   "execution_count": 8,
   "id": "fc4aea1d-8775-40cb-bbd0-92b6bd6f04bc",
   "metadata": {},
   "outputs": [
    {
     "data": {
      "text/html": [
       "<div>\n",
       "<style scoped>\n",
       "    .dataframe tbody tr th:only-of-type {\n",
       "        vertical-align: middle;\n",
       "    }\n",
       "\n",
       "    .dataframe tbody tr th {\n",
       "        vertical-align: top;\n",
       "    }\n",
       "\n",
       "    .dataframe thead th {\n",
       "        text-align: right;\n",
       "    }\n",
       "</style>\n",
       "<table border=\"1\" class=\"dataframe\">\n",
       "  <thead>\n",
       "    <tr style=\"text-align: right;\">\n",
       "      <th></th>\n",
       "      <th>track_pos</th>\n",
       "      <th>track_artist_name</th>\n",
       "      <th>track_track_name</th>\n",
       "      <th>track_duration_ms</th>\n",
       "      <th>track_album_name</th>\n",
       "      <th>playlist_name</th>\n",
       "      <th>playlist_num_artists</th>\n",
       "      <th>playlist_num_albums</th>\n",
       "      <th>playlist_num_tracks</th>\n",
       "      <th>playlist_num_followers</th>\n",
       "      <th>playlist_num_edits</th>\n",
       "      <th>playlist_duration_ms</th>\n",
       "      <th>playlist_collaborative</th>\n",
       "      <th>bag_of_words</th>\n",
       "      <th>sentiment_bag_of_words</th>\n",
       "    </tr>\n",
       "  </thead>\n",
       "  <tbody>\n",
       "    <tr>\n",
       "      <th>0</th>\n",
       "      <td>0</td>\n",
       "      <td>The Jackson 5</td>\n",
       "      <td>ABC</td>\n",
       "      <td>174866</td>\n",
       "      <td>ABC</td>\n",
       "      <td>party party</td>\n",
       "      <td>116</td>\n",
       "      <td>142</td>\n",
       "      <td>152</td>\n",
       "      <td>1</td>\n",
       "      <td>3</td>\n",
       "      <td>39413578</td>\n",
       "      <td>False</td>\n",
       "      <td>jackson c easy love b baby michael sing come s...</td>\n",
       "      <td>0.7964</td>\n",
       "    </tr>\n",
       "    <tr>\n",
       "      <th>1</th>\n",
       "      <td>1</td>\n",
       "      <td>Streetlight Manifesto</td>\n",
       "      <td>Point/Counterpoint</td>\n",
       "      <td>327920</td>\n",
       "      <td>Everything Goes Numb</td>\n",
       "      <td>party party</td>\n",
       "      <td>116</td>\n",
       "      <td>142</td>\n",
       "      <td>152</td>\n",
       "      <td>1</td>\n",
       "      <td>3</td>\n",
       "      <td>39413578</td>\n",
       "      <td>False</td>\n",
       "      <td>know dont never would ill ive like wont cant im</td>\n",
       "      <td>0.1316</td>\n",
       "    </tr>\n",
       "    <tr>\n",
       "      <th>2</th>\n",
       "      <td>2</td>\n",
       "      <td>Michael Jackson</td>\n",
       "      <td>Billie Jean</td>\n",
       "      <td>293826</td>\n",
       "      <td>Thriller 25 Super Deluxe Edition</td>\n",
       "      <td>party party</td>\n",
       "      <td>116</td>\n",
       "      <td>142</td>\n",
       "      <td>152</td>\n",
       "      <td>1</td>\n",
       "      <td>3</td>\n",
       "      <td>39413578</td>\n",
       "      <td>False</td>\n",
       "      <td>jean one billie lover uh son baby kid hoo girl</td>\n",
       "      <td>0.5859</td>\n",
       "    </tr>\n",
       "    <tr>\n",
       "      <th>3</th>\n",
       "      <td>3</td>\n",
       "      <td>Green Day</td>\n",
       "      <td>Basket Case</td>\n",
       "      <td>181533</td>\n",
       "      <td>Dookie</td>\n",
       "      <td>party party</td>\n",
       "      <td>116</td>\n",
       "      <td>142</td>\n",
       "      <td>152</td>\n",
       "      <td>1</td>\n",
       "      <td>3</td>\n",
       "      <td>39413578</td>\n",
       "      <td>False</td>\n",
       "      <td>sometimes chorus give creeps mind plays tricks...</td>\n",
       "      <td>0.1280</td>\n",
       "    </tr>\n",
       "    <tr>\n",
       "      <th>4</th>\n",
       "      <td>4</td>\n",
       "      <td>The White Stripes</td>\n",
       "      <td>Seven Nation Army</td>\n",
       "      <td>231800</td>\n",
       "      <td>Elephant</td>\n",
       "      <td>party party</td>\n",
       "      <td>116</td>\n",
       "      <td>142</td>\n",
       "      <td>152</td>\n",
       "      <td>1</td>\n",
       "      <td>3</td>\n",
       "      <td>39413578</td>\n",
       "      <td>False</td>\n",
       "      <td>im na gon back comin prechorus instrumental bl...</td>\n",
       "      <td>0.0000</td>\n",
       "    </tr>\n",
       "  </tbody>\n",
       "</table>\n",
       "</div>"
      ],
      "text/plain": [
       "   track_pos      track_artist_name    track_track_name  track_duration_ms  \\\n",
       "0          0          The Jackson 5                 ABC             174866   \n",
       "1          1  Streetlight Manifesto  Point/Counterpoint             327920   \n",
       "2          2        Michael Jackson         Billie Jean             293826   \n",
       "3          3              Green Day         Basket Case             181533   \n",
       "4          4      The White Stripes   Seven Nation Army             231800   \n",
       "\n",
       "                   track_album_name playlist_name  playlist_num_artists  \\\n",
       "0                               ABC   party party                   116   \n",
       "1              Everything Goes Numb   party party                   116   \n",
       "2  Thriller 25 Super Deluxe Edition   party party                   116   \n",
       "3                            Dookie   party party                   116   \n",
       "4                          Elephant   party party                   116   \n",
       "\n",
       "   playlist_num_albums  playlist_num_tracks  playlist_num_followers  \\\n",
       "0                  142                  152                       1   \n",
       "1                  142                  152                       1   \n",
       "2                  142                  152                       1   \n",
       "3                  142                  152                       1   \n",
       "4                  142                  152                       1   \n",
       "\n",
       "   playlist_num_edits  playlist_duration_ms  playlist_collaborative  \\\n",
       "0                   3              39413578                   False   \n",
       "1                   3              39413578                   False   \n",
       "2                   3              39413578                   False   \n",
       "3                   3              39413578                   False   \n",
       "4                   3              39413578                   False   \n",
       "\n",
       "                                        bag_of_words  sentiment_bag_of_words  \n",
       "0  jackson c easy love b baby michael sing come s...                  0.7964  \n",
       "1    know dont never would ill ive like wont cant im                  0.1316  \n",
       "2     jean one billie lover uh son baby kid hoo girl                  0.5859  \n",
       "3  sometimes chorus give creeps mind plays tricks...                  0.1280  \n",
       "4  im na gon back comin prechorus instrumental bl...                  0.0000  "
      ]
     },
     "execution_count": 8,
     "metadata": {},
     "output_type": "execute_result"
    }
   ],
   "source": [
    "df[df['playlist_name'] == 'party party'].head(5)"
   ]
  },
  {
   "cell_type": "code",
   "execution_count": 9,
   "id": "6fd1bd96-2da7-440e-8724-597c7f444744",
   "metadata": {},
   "outputs": [
    {
     "data": {
      "text/plain": [
       "array(['ABC', 'Point/Counterpoint', 'Billie Jean', ..., 'Ruff To The Max',\n",
       "       'Movin', 'Devistated - Edit'], dtype=object)"
      ]
     },
     "execution_count": 9,
     "metadata": {},
     "output_type": "execute_result"
    }
   ],
   "source": [
    "df.track_track_name.unique()"
   ]
  },
  {
   "cell_type": "code",
   "execution_count": null,
   "id": "62774329-e80a-4b9f-b5b1-7a33a9ff1347",
   "metadata": {},
   "outputs": [
    {
     "name": "stdout",
     "output_type": "stream",
     "text": [
      "Requirement already satisfied: transformers in /opt/anaconda3/lib/python3.12/site-packages (4.47.0)\n",
      "Requirement already satisfied: filelock in /opt/anaconda3/lib/python3.12/site-packages (from transformers) (3.13.1)\n",
      "Requirement already satisfied: huggingface-hub<1.0,>=0.24.0 in /opt/anaconda3/lib/python3.12/site-packages (from transformers) (0.26.3)\n",
      "Requirement already satisfied: numpy>=1.17 in /opt/anaconda3/lib/python3.12/site-packages (from transformers) (1.26.4)\n",
      "Requirement already satisfied: packaging>=20.0 in /opt/anaconda3/lib/python3.12/site-packages (from transformers) (24.1)\n",
      "Requirement already satisfied: pyyaml>=5.1 in /opt/anaconda3/lib/python3.12/site-packages (from transformers) (6.0.1)\n",
      "Requirement already satisfied: regex!=2019.12.17 in /opt/anaconda3/lib/python3.12/site-packages (from transformers) (2024.9.11)\n",
      "Requirement already satisfied: requests in /opt/anaconda3/lib/python3.12/site-packages (from transformers) (2.32.3)\n",
      "Requirement already satisfied: tokenizers<0.22,>=0.21 in /opt/anaconda3/lib/python3.12/site-packages (from transformers) (0.21.0)\n",
      "Requirement already satisfied: safetensors>=0.4.1 in /opt/anaconda3/lib/python3.12/site-packages (from transformers) (0.4.5)\n",
      "Requirement already satisfied: tqdm>=4.27 in /opt/anaconda3/lib/python3.12/site-packages (from transformers) (4.66.5)\n",
      "Requirement already satisfied: fsspec>=2023.5.0 in /opt/anaconda3/lib/python3.12/site-packages (from huggingface-hub<1.0,>=0.24.0->transformers) (2024.6.1)\n",
      "Requirement already satisfied: typing-extensions>=3.7.4.3 in /opt/anaconda3/lib/python3.12/site-packages (from huggingface-hub<1.0,>=0.24.0->transformers) (4.11.0)\n",
      "Requirement already satisfied: charset-normalizer<4,>=2 in /opt/anaconda3/lib/python3.12/site-packages (from requests->transformers) (3.3.2)\n",
      "Requirement already satisfied: idna<4,>=2.5 in /opt/anaconda3/lib/python3.12/site-packages (from requests->transformers) (3.7)\n",
      "Requirement already satisfied: urllib3<3,>=1.21.1 in /opt/anaconda3/lib/python3.12/site-packages (from requests->transformers) (2.2.3)\n",
      "Requirement already satisfied: certifi>=2017.4.17 in /opt/anaconda3/lib/python3.12/site-packages (from requests->transformers) (2024.8.30)\n"
     ]
    }
   ],
   "source": [
    "! pip install transformers"
   ]
  },
  {
   "cell_type": "markdown",
   "id": "500e07bd",
   "metadata": {},
   "source": [
    "#### Model Implementation:"
   ]
  },
  {
   "cell_type": "code",
   "execution_count": 11,
   "id": "ab0cb2ce-38a9-4c08-9f01-979e4e2abff8",
   "metadata": {},
   "outputs": [],
   "source": [
    "from transformers import BertTokenizer, BertModel\n",
    "import torch\n",
    "import pandas as pd\n",
    "from sklearn.metrics.pairwise import cosine_similarity\n",
    "import numpy as np\n",
    "\n",
    "# Load BERT model and tokenizer\n",
    "tokenizer = BertTokenizer.from_pretrained(\"bert-base-uncased\")\n",
    "model = BertModel.from_pretrained(\"bert-base-uncased\")\n",
    "\n",
    "# Function to encode text using BERT in batches\n",
    "def encode_text_with_bert_in_batches(text_list, batch_size=100):\n",
    "    embeddings = []\n",
    "    for i in range(0, len(text_list), batch_size):\n",
    "        batch = text_list[i:i + batch_size]\n",
    "        inputs = tokenizer(batch, padding=True, truncation=True, return_tensors=\"pt\", max_length=128)\n",
    "        with torch.no_grad():\n",
    "            outputs = model(**inputs)\n",
    "        # Use the [CLS] token embedding as the sentence embedding\n",
    "        batch_embeddings = outputs.last_hidden_state[:, 0, :].numpy()\n",
    "        embeddings.append(batch_embeddings)\n",
    "    return np.vstack(embeddings)\n",
    "\n",
    "# Example: Encode track names and playlist names in batches\n",
    "batch_size = 100  # Adjust based on your system's memory capacity\n",
    "df['track_name_embedding'] = list(encode_text_with_bert_in_batches(df['track_track_name'].tolist(), batch_size))\n",
    "df['playlist_name_embedding'] = list(encode_text_with_bert_in_batches(df['playlist_name'].tolist(), batch_size))"
   ]
  },
  {
   "cell_type": "code",
   "execution_count": 14,
   "id": "55e23c75-5c53-45b4-93af-7dbc9de92c3c",
   "metadata": {},
   "outputs": [],
   "source": [
    "def recommend_tracks_bert(seed_tracks, num_recommendations=5):\n",
    "    seed_embeddings = encode_text_with_bert_in_batches(seed_tracks)  # Encode seed tracks\n",
    "    track_embeddings = list(df['track_name_embedding'])  # All track embeddings\n",
    "\n",
    "    # Compute cosine similarity between seed tracks and all tracks\n",
    "    similarities = cosine_similarity(seed_embeddings, track_embeddings)\n",
    "    mean_similarity = similarities.mean(axis=0)  # Average similarity across all seed tracks\n",
    "\n",
    "    # Rank tracks by similarity and exclude seed tracks\n",
    "    df['similarity'] = mean_similarity\n",
    "    recommendations = df[~df['track_track_name'].isin(seed_tracks)] \\\n",
    "        .sort_values(by='similarity', ascending=False)\n",
    "\n",
    "    # Drop duplicates based on track name and artist combination\n",
    "    unique_recommendations = recommendations[['track_artist_name', 'track_track_name', 'similarity']] \\\n",
    "        .drop_duplicates(subset=['track_artist_name', 'track_track_name']) \\\n",
    "        .head(num_recommendations)\n",
    "\n",
    "    return unique_recommendations\n"
   ]
  },
  {
   "cell_type": "markdown",
   "id": "13cc7e19",
   "metadata": {},
   "source": [
    "$Cosine Similarity:$\n",
    "\n",
    "$\\cos(\\theta) = \\frac{\\mathbf{A} \\cdot \\mathbf{B}}{||\\mathbf{A}|| \\cdot ||\\mathbf{B}||}$"
   ]
  },
  {
   "cell_type": "code",
   "execution_count": null,
   "id": "40a14cdd",
   "metadata": {},
   "outputs": [
    {
     "name": "stdout",
     "output_type": "stream",
     "text": [
      "BERT-Based Recommendations:\n",
      "      track_artist_name track_track_name  similarity\n",
      "66865               LFO     Summer Girls    0.910419\n",
      "49761          Ludacris      Party Girls    0.906873\n",
      "46004         blackbear     Valley Girls    0.903665\n",
      "67600    Persona La Ave     Special Boys    0.903648\n",
      "88722         FKA twigs       Video Girl    0.901454\n"
     ]
    }
   ],
   "source": [
    "# Define seed_tracks as input to the model\n",
    "seed_tracks = [\"XO TOUR Llif3\", \"X Men\",\"California Girls\"] \n",
    "\n",
    "# Get 5 unique recommendations using BERT\n",
    "bert_recommendations = recommend_tracks_bert(seed_tracks, num_recommendations=5)\n",
    "print(\"BERT-Based Recommendations:\")\n",
    "print(bert_recommendations) \n"
   ]
  },
  {
   "cell_type": "code",
   "execution_count": null,
   "id": "d3145730",
   "metadata": {},
   "outputs": [
    {
     "name": "stdout",
     "output_type": "stream",
     "text": [
      "BERT-Based Recommendations:\n",
      "              track_artist_name track_track_name  similarity\n",
      "49981  Bob Marley & The Wailers             Kaya    0.932976\n",
      "40341                   Beyoncé     Naughty Girl    0.931241\n",
      "59256             Niykee Heaton       Dream Team    0.930380\n",
      "8134        The Clancy Brothers     Mountain Dew    0.929805\n",
      "55744               MisterWives         Vagabond    0.929183\n"
     ]
    }
   ],
   "source": [
    "# feeding the previous output as the next input to check the similarity and relavancy of the tracks\n",
    "seed_tracks = [\"XO TOUR Llif3\", \"X Men\",\"California Girls\", \"Summer Girls\",\"Party Girls\",\"Valley Girls\",\"Special Boys\",\"Video Girl\"]  \n",
    "# Get 5 unique recommendations using BERT\n",
    "bert_recommendations = recommend_tracks_bert(seed_tracks, num_recommendations=5)\n",
    "print(\"BERT-Based Recommendations:\")\n",
    "print(bert_recommendations) \n"
   ]
  },
  {
   "cell_type": "markdown",
   "id": "7d6caaad",
   "metadata": {},
   "source": [
    "### Conclusion:\n",
    "\n",
    "The BERT-based recommendation system demonstrates the potential of language models for personalized music recommendations.\\\n",
    "      By effectively capturing semantic and syntactic information, this approach can provide more relevant and engaging recommendations."
   ]
  }
 ],
 "metadata": {
  "kernelspec": {
   "display_name": "base",
   "language": "python",
   "name": "python3"
  },
  "language_info": {
   "codemirror_mode": {
    "name": "ipython",
    "version": 3
   },
   "file_extension": ".py",
   "mimetype": "text/x-python",
   "name": "python",
   "nbconvert_exporter": "python",
   "pygments_lexer": "ipython3",
   "version": "3.12.7"
  }
 },
 "nbformat": 4,
 "nbformat_minor": 5
}
